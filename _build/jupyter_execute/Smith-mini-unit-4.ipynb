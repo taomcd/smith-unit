{
 "cells": [
  {
   "cell_type": "markdown",
   "id": "cdc4d637",
   "metadata": {},
   "source": [
    "## Part 4: Analyze the Data"
   ]
  },
  {
   "cell_type": "markdown",
   "id": "9f988002",
   "metadata": {},
   "source": [
    "[Setting is the graduate student coffee lounge.]\n",
    "\n",
    "### Script\n",
    "\n",
    ">>__Student 1__: I can't believe this. I collected the data. I should be making graphs. But I really just don't know what to do next. Why did I do such a complicated design? I have brains that are collected under 3 different drug conditions. So that's okay, right? That's, what is that, like an analysis of variance of the 3 conditions? But then I also have this controlled variable, argh, it varied a little during the experiment! The incubation bath temperature was supposed to be kept constant, but it changed a little, and I feel like I need to make sure that's not influencing the results. And then my advisor just said, “Make sure that you analyze by sex.” And I'm thinking, Okay, but how do I do that? Does anybody else have problems like this??   \n",
    ">>\n",
    ">>__Student 2__: Oh, my gosh! I was there a few months ago. I totally know what you're talking about. It can be really difficult with such complicated experiments. But those complex designs actually can really help you ultimately draw conclusions. What I've learned, the hard way, is that it's actually better to consult with a statistician before we even do the experiment. To make sure that you can analyze it. So, example, if you want to use analysis of variance, there are some assumptions of that statistical test, and I hope I hope you're in a situation where you can use that. But a statistician can help you figure out what you can do now. >> \n",
    ">>__Student 3__: Well, whatever you figure out, I think you should make sure that you learn to analyze using code. I'm using Python, but I used to use R, and I am planning to use Matlab for my next project.  What I am finding really helpful is that the student who did the experiment just before mine gave me the copy of their code, and it's so clear. It's very thoroughly commented. It's so obvious what I need to change to make adjustments for the way my experiments were laid out, and I like that. I can really see exactly what they did in their analysis. It just makes me much more confident about the conclusions after seeing all the steps of their analysis   \n",
    ">>\n",
    ">>__Student 1__: Are you kidding? This is going take me so long!\n",
    ">>\n",
    ">>__Student 2__: Well, that's research. It just takes a while. Don't worry. I've heard there's lots of good help, and being able to do a thorough analysis and draw a clear conclusion, that's what it's all about.  \n",
    ">>\n",
    ">>__Student 3__: Just jump in!\n",
    ">\n",
    ">__Narrator__: It can seem overwhelming to analyze data, even from a simple experiment. It’s a good idea to consult with others who have more experience with this step. You should prepare for consults with 3-4 bullet points describing what you hope your analysis plan will achieve.\n",
    ">\n",
    ">We just heard about a few simple rules that can guide you:\n",
    ">\n",
    ">1. Learn a programming language. These can make your analysis more reproducible. You will also find many libraries and packages that can help you.\n",
    ">\n",
    ">2. Consult with a statistician after making your analysis plan. They can help you determine if your data will fit the assumptions of the tests you plan to use, can suggest new ways to approach the analysis, and can help you with common situations, such as missing data.\n",
    ">\n",
    ">3. Keep learning and seek out feedback. Consider this an opportunity to gain more experience with data analysis and improve your skills.\n",
    ">\n",
    ">Even when you start your analysis with a detailed plan, you will hit various points of frustration. You might find you will need to transform your data. You might need to work with various statistical models to find out which is best for your specific data set. Sometimes you will need to improvise based on your preliminary findings.\n",
    ">\n",
    ">To reduce frustration, keep a detailed record of your analysis, starting with your overall goals. Learn and use standard conventions for naming folders and variables. Our activities will help you begin this. Your future self will thank you! If you need to go back to your project after a few months have passed, it will be much faster to pick up where you left off if you adopt standard conventions for organizing analysis files.\n",
    ">\n",
    ">Be alert to oddities in your results. Take time to make data visualizations and study them. Whatever you do, don’t ignore an odd result. Sometimes these arise from an error, but in other cases these are the secret the unlocks an exciting new discovery."
   ]
  },
  {
   "cell_type": "markdown",
   "id": "1b38131f",
   "metadata": {},
   "source": [
    "#### Visual Element\n",
    "\n",
    "> TBD"
   ]
  },
  {
   "cell_type": "markdown",
   "id": "d336136d",
   "metadata": {},
   "source": [
    "### Activity 1\n",
    "> TBD"
   ]
  },
  {
   "cell_type": "markdown",
   "id": "d6f2a2df",
   "metadata": {},
   "source": [
    "### Activity 2\n",
    "> TBD"
   ]
  },
  {
   "cell_type": "code",
   "execution_count": null,
   "id": "994f79fc",
   "metadata": {},
   "outputs": [],
   "source": []
  }
 ],
 "metadata": {
  "kernelspec": {
   "display_name": "Python 3 (ipykernel)",
   "language": "python",
   "name": "python3"
  },
  "language_info": {
   "codemirror_mode": {
    "name": "ipython",
    "version": 3
   },
   "file_extension": ".py",
   "mimetype": "text/x-python",
   "name": "python",
   "nbconvert_exporter": "python",
   "pygments_lexer": "ipython3",
   "version": "3.11.3"
  }
 },
 "nbformat": 4,
 "nbformat_minor": 5
}
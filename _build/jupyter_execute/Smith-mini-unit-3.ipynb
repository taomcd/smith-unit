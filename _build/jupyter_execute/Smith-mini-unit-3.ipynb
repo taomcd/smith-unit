{
 "cells": [
  {
   "cell_type": "markdown",
   "id": "cdc4d637",
   "metadata": {},
   "source": [
    "## Part 3: Design your study and collect the data"
   ]
  },
  {
   "cell_type": "markdown",
   "id": "9f988002",
   "metadata": {},
   "source": [
    ">Narrator: As a graduate student it can take a while to come up with a good idea for your thesis experiments. When you finally settle on a good idea, it is invigorating.\n",
    ">\n",
    ">>Student in lab: Yay, I know what I should do for my thesis! My advisor has agreed this is good!\n",
    "I'm going to call a meeting of my committee to tell them about my idea.\n",
    ">>\n",
    ">>Student with committee: So that’s my idea. I think it's a good experiment. I think I will be able to learn a lot from it.\n",
    "Committee member 1: Huh! That is a good idea…It was clever to think of using nesting birds for this experiment. So tell me, how are you going to control for the experience of animals in each specific nest? That could differ across nests, is that correct?\n",
    ">\n",
    ">Narrator: Now you need to consider this new issue. How are you going to control the variable of the nest?\n",
    ">\n",
    ">>Student: Well, that wasn't what I was aiming to study. But you are right. The variable of the nest is important for me to control, and so I will need to consider that.\n",
    ">>\n",
    ">>Advisor: Maybe you can use a different design, a design where the nest is a “nested variable”.\n",
    "I used a design like this when I had an experiment with mice housed together in cages. I explicitly distributed animals that were in a shared cage into different experimental groups.\n",
    "Student: Oh, ok, I can learn more about experimental designs that can help control for this variable.\n",
    "Committee member 1: Okay, great!  And are you going to control for sex of the animals?\n",
    ">>\n",
    ">>Student: No, I'm going to use both males and females.\n",
    "Committee member 1: Okay. And if you do that, do you have an analysis plan for analyzing by sex?\n",
    "Student: Oh, yeah…. No.\n",
    ">\n",
    ">Narrator: Well, you might have to go back to your office to think about it. And actually, at this point, it's really good to consult with a statistician to help you to understand power analysis, the statistical approach many of us take to figure out the proper sample size for our experiment. After you make sure that your sample size does accommodate analysis by sex, you will be more confident that you will later be able to understand the effect of that variable.\n",
    ">\n",
    ">Narrator: Now you're starting to get suspicious, and you decide “I'm not going to go back to the committee until I think of all the variables I can think of!” Our activities in this unit will help you brainstorm variables.\n",
    ">\n",
    ">>Student: For example, if I can't do the whole experiment in one day, then I guess I need to consider the day as a variable, and I need to control for that somehow, like maybe I can do something similar to what I did with the nest variable and test equal numbers of animals from each condition on each day. So whatever factors vary across the day, the effects are distributed across all my groups\n",
    ">\n",
    ">Narrator: Some variables you really aren't going to think of, but they're probably there. There's just so many things in the environment that we use a trick to control for things we haven't even thought of. Isn't that amazing? We can control for things we haven't even thought of. We do this by using randomization. We have several units in this series that will help you learn more about this really important experimental design tool. We will teach you in one unit about why randomization is important and how it works. But we'll also teach you how to use it. So we'll give you very practical advice about ways to use randomization as you design your experiment.\n",
    ">\n",
    ">>Committee member 1:  Well I am impressed. You have a great plan for manage the variables you identified, such as the nest and the day of the week, you have a strong analysis plan that includes adequate power to analyze by sex, and you explain how you will use randomization to distribute the effects of other variables across all conditions. Well done! You should also think about confirmation bias. It’s clear that you've set up an experiment where you actually hope the results come out one specific way. I can see that is what you were really excited about. If that's the outcome, well that is interesting. I would want to be very sure that I did everything possible to protect myself from confirmation bias if this were my experiment.\n",
    ">\n",
    ">Narrator: Yes, you better make sure that when you're running the experiment that you're blinded. If you are aware of which animals are associated with which group, your bias might sneak in in tricky ways. I know that you're not trying to be biased, but it can happen. And anyone who collects data for you should similarly be blinded. We have a unit that will teach you how to approach this problem of blinding and ways to incorporate it in your design.\n",
    ">\n",
    ">Designing an experiment and collecting data requires careful consideration of various factors. It's crucial to thoroughly discuss your experiment's design with your committee or colleagues, and develop a detailed analysis plan, particularly if your study is not purely exploratory and you intend to use the results to support a specific hypothesis. This means having a clear analysis plan before you begin collecting data.\n",
    ">\n",
    ">Once you have a detailed protocol and analysis plan in place, you can begin collecting data. Throughout the process, it's important to remain attentive to other variables that may be relevant to your study. Write them down and be meticulous in controlling or randomizing all possible factors that could impact your results. Being aware of these details is key to ensuring the success of your experiment."
   ]
  },
  {
   "cell_type": "markdown",
   "id": "d336136d",
   "metadata": {},
   "source": [
    "### Activity 1\n",
    "> TBD"
   ]
  },
  {
   "cell_type": "markdown",
   "id": "d6f2a2df",
   "metadata": {},
   "source": [
    "### Activity 2\n",
    "> Revisit your individual question from mini-unit 1.2 and evaluate if it has specified the “who” clearly and completely."
   ]
  }
 ],
 "metadata": {
  "kernelspec": {
   "display_name": "Python 3 (ipykernel)",
   "language": "python",
   "name": "python3"
  },
  "language_info": {
   "codemirror_mode": {
    "name": "ipython",
    "version": 3
   },
   "file_extension": ".py",
   "mimetype": "text/x-python",
   "name": "python",
   "nbconvert_exporter": "python",
   "pygments_lexer": "ipython3",
   "version": "3.11.3"
  }
 },
 "nbformat": 4,
 "nbformat_minor": 5
}
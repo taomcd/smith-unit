{
 "cells": [
  {
   "cell_type": "markdown",
   "id": "cdc4d637",
   "metadata": {},
   "source": [
    "## Part 6: Where Does the Researcher go from Here?"
   ]
  },
  {
   "cell_type": "markdown",
   "id": "9f988002",
   "metadata": {},
   "source": [
    "__Overview__: When you modify your thinking, you can either modify the next question to ask, the hypothesis to test or the model.  You need to consider the limitations of your results. Being open to alternative interpretations is important for rigorous research. It’s important to understand how prior decisions influence how much impact your results will have."
   ]
  },
  {
   "cell_type": "markdown",
   "id": "1b38131f",
   "metadata": {},
   "source": [
    "### Script\n",
    "\n",
    ">**Neuroscience Graduate Student 1**: Ugh, my experiment didn't work again. I don't know what I'm doing wrong.\n",
    ">\n",
    ">**Neuroscience Graduate Student 2**: It happens to everyone. Have you thought about how you can modify your approach to get better results?\n",
    ">\n",
    ">**NGS1**: I'm not sure. How would I do this experiment better?\n",
    ">\n",
    ">**NGS2**: Well, what is the question you should have been asking? Maybe you need to modify your research question to get more meaningful results.\n",
    ">\n",
    ">**NGS1**: I guess I can think about that. Maybe I need to spend more time evaluating my research question.\n",
    ">\n",
    ">**NGS2**: I needed to revise my research question a lot at the start. I was surprised how important it was to be very thorough in my literature review. My advisor is rather annoying - she keeps cheerily telling me “A month in the lab can save an hour in the library”!\n",
    ">\n",
    ">**NGS1**: Haha, that *is* annoying! But I wonder if I might simply keep my research question intact because I think it is pretty solid. What I keep wondering is if I could have done the experiment better. I did have some issues with getting all the conditions stable.\n",
    ">\n",
    ">**NGS2**: Oh you can just replicate. I think our lab always replicates our major findings in-house before we move forward. But if it didn’t seem to work at all, you don’t want to simply repeat it. Try to clarify what you what to know next and how your next experiment will move you forward.\n",
    ">\n",
    ">**NGS1**: I seem to need to spend a lot more time thinking things through.\n",
    ">\n",
    ">**NGS2**: Exactly. It's all about being open to modifying your thinking and approach to get better results."
   ]
  },
  {
   "cell_type": "markdown",
   "id": "4046f9ab",
   "metadata": {},
   "source": [
    "#### Interactive Element\n",
    "> TBD"
   ]
  },
  {
   "cell_type": "markdown",
   "id": "d336136d",
   "metadata": {},
   "source": [
    "### Activity 1\n",
    "> TBD"
   ]
  },
  {
   "cell_type": "markdown",
   "id": "d6f2a2df",
   "metadata": {},
   "source": [
    "### Activity 2\n",
    "> TBD"
   ]
  }
 ],
 "metadata": {
  "kernelspec": {
   "display_name": "Python 3 (ipykernel)",
   "language": "python",
   "name": "python3"
  },
  "language_info": {
   "codemirror_mode": {
    "name": "ipython",
    "version": 3
   },
   "file_extension": ".py",
   "mimetype": "text/x-python",
   "name": "python",
   "nbconvert_exporter": "python",
   "pygments_lexer": "ipython3",
   "version": "3.11.3"
  }
 },
 "nbformat": 4,
 "nbformat_minor": 5
}
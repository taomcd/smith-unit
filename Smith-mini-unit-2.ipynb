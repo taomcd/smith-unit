{
 "cells": [
  {
   "cell_type": "markdown",
   "id": "cdc4d637",
   "metadata": {},
   "source": [
    "##  Mini-Unit 2: We start with a reserach problem\n",
    "\n",
    "Overview: We discuss how to explore your interests and identify a problem that guides your research. Here, we provide one rigorous framework for thinking about your scientific problem (Strong Inference). At the end of the mini-unit, you will be asked to practice thinking about and evaluating the rigor of your scientific ideas."
   ]
  },
  {
   "cell_type": "markdown",
   "id": "ca42323f",
   "metadata": {},
   "source": [
    "### Script\n",
    "\n",
    ">__Narrator__: *How do you know that you’ve found a ‘good’ research problem? \n",
    ">\n",
    ">One way is to look to your community.  A* ‘*good’ research problem should  have some significance to the community of scientists to which you belong. A ‘good’ research problem is grounded in current knowledge, but also pushes your field forward in a new direction.* \n",
    ">\n",
    ">*A Typical Beginner’s Mistake: One of the most difficult things is understanding and articulating how your research solves a problem for your community of scientists. Students often overstate the significance of their research or try to force their research into solving a practical problem (e.g., treating disease). If your research does not address one of the “big” problems in your field, it’s ok to start with smaller questions.*"
   ]
  },
  {
   "cell_type": "markdown",
   "id": "01fde98c",
   "metadata": {},
   "source": [
    "### Activity: Practice Communicating your research problem\n",
    "\n",
    "If you have selected a good research problem, you should be able to fill in the following template\n",
    "1. Topic: I am studying ______.\n",
    "2. Question: because I want to find out what/why/how __________.\n",
    "3. Significance: in order to help my community understand _____________."
   ]
  },
  {
   "cell_type": "markdown",
   "id": "893facb3",
   "metadata": {},
   "source": [
    "*I, Thomas, am confused where the Self-Evaluation section is suppose to go based on the on Unit 1 Skeleton I'm working off of*\n",
    "\n",
    "#### Self-Evaluation:\n",
    "\n",
    "How confident are you in your answers in the above activity? 1-5\n",
    "\n",
    "Is this a question no one knows the answer to?  Y/N/IDK\n",
    "\n",
    "How curious are you about this question? 1-5"
   ]
  },
  {
   "cell_type": "markdown",
   "id": "ae85b5b1",
   "metadata": {},
   "source": [
    "### Script\n",
    "\n",
    ">__Narrator__: *You might want to consider a different angle. Reflect on why *YOU* chose this research problem. Making sure you are doing the most rigorous research includes examining your own motivations to examine them for potential biases. Are you interested in it because your work might support your favorite hypothesis? In rigorous research, it is important to have a clear idea of your own motivations, because the individual investigator is the one who is the easiest to fool (link to Feymann’s graduation address).*\n",
    ">\n",
    ">>PI: I have been reading a paper that points out, yet again, how there are not enough choices for treatment following stroke. It is discouraging! Multiple treatments have been successful in rodent trials, but they don’t work out when tested in humans. Our community needs to find a way out of this!\n",
    ">>\n",
    ">>Student: That could be my **research problem**! Maybe I can figure out **why stroke treatments don’t transfer between rodent and human**. I wonder why that is?\n",
    ">>\n",
    ">>PI: It would be a fine research problem. But you need to figure out how you will approach it. What are you thinking?\n",
    ">>\n",
    ">>Student: Let’s brainstorm. (Goes to whiteboard) What are the differences between rodents and humans that might be relevant to stroke? (writes down: Diet. Stress? Lifestyle. Nocturnal/Diurnal) Hey, what about that? Maybe **my hypothesis should be that rodents are nocturnal and humans are diurnal, and testing rodents in the light phase explains why stroke research has not translated to humans.**\n",
    ">>\n",
    ">>PI: Hm. I don’t know. I doubt that. We generally test mice in our studies during their light phase, and most strokes occur in people during the daytime. \n",
    ">>\n",
    ">>Student: Oh. OK. But might the physiology of mice be different during their sleep phase? Rodents are sleeping in the light phase when we test them, but humans are less likely to stroke during sleep.\n",
    ">>\n",
    ">>PI: Personally, I don’t think that is going to explain much. But describe to me how you might test the idea.\n",
    ">>\n",
    ">>Student: OK. (thinking hard) I will try to think of lots of ways to test the idea, OK? And then maybe we can discuss them?\n",
    ">>\n",
    ">>PI: OK\n",
    ">>\n",
    ">>Student: (Writing on whiteboard “**Predictions of my hypothesis**”) We could get a rodent that is diurnal. (as an aside) Near my grandma’s home in Costa Rica there are “singing mice” who are out during the day. (back to writing “Predict that …) We could test mice during the darktime active phase. We could keep the mice awake during the light phase. (Pauses) That’s all I can come up with right now. \n",
    ">>\n",
    ">>PI: OK. Let’s consider each one. (goes to another whiteboard) Your research problem is to determine why stroke treatments are not translating well from rodents to humans. Your hypothesis is that this is because mice and rats are nocturnal and humans are diurnal. One prediction is that diurnal mice … what is your prediction?\n",
    ">>\n",
    ">>Student: That diurnal mice will respond to treatments the way humans do. But humans don’t respond to these treatments, so the prediction is that the diurnal mice will not respond to stroke treatments following a stroke when tested during the light phase. \n",
    ">>\n",
    ">>PI: OK. I would be cautious in concluding much from that experiment. \n",
    ">>\n",
    ">>Students: Why?\n",
    "\n",
    "*{could pause the video here to let students think about answers}*\n",
    "\n",
    ">>PI: When we change to a new species as a model organisms, we have to be alert to the many ways that animal might be different. You are focusing on the difference in timing of daily activity, but the singing mouse might differ from the laboratory mouse in many other ways that are relevant to stroke outcome. \n",
    ">>\n",
    ">Narrator: This experiment will never test the hypothesis that the student wants to test.  All previous work was done in laboratory mice in the light phase. A better experiment would be comparing laboratory mice tested in the light vs the dark phase.\n",
    ">\n",
    ">Can the student think of a better experiment?\n",
    ">\n",
    ">>Student: (looks confused) OK, so should I not use singing mice?\n",
    ">>\n",
    ">>PI: Here…. why don’t we take a step back? Remember when you first learned about experimental design? You have a research problem. You have a hypothesis. You need to think of multiple predictions of your hypothesis. Next, can you think of any other hypotheses? If you have multiple working hypotheses, then you can better think of the possible outcomes of an experiment that will enable you to distinguish between them. Scientists really tend to get attached to our favorite ideas, but that can lead to bias. At this stage, it benefits you to be creative! [Link points students to [strong inference framework](https://www.science.org/doi/10.1126/science.146.3642.347)]\n",
    ">>\n",
    ">>Student: …. {montage of student writing various hypotheses on a whiteboard, getting frustrated, getting excited, illustrating that this takes time. Student is whittling down the list of possible explanations to a set of reasonable hypotheses.}\n",
    "**\n",
    ">>\n",
    ">>Student: OK, here are my three hypotheses\n",
    ">> 1. XXXX and I will do an experiment to test YYY. And here are my predictions.\n",
    ">> 2. TBD\n",
    ">> 3. TBD\n",
    ">>\n",
    ">>PI: Great! Now, the test of a good question is whether you have a critical prediction that if it is found to be false, will indicate that your hypothesis is incorrect.\n",
    ">\n",
    ">Narrator: As you just saw, s*ome researchers argue that testing hypotheses will provide faster progress in scientific understanding as compared to acquiring more and more information about a research problem. [TO DO: Need ending here…]*"
   ]
  },
  {
   "cell_type": "markdown",
   "id": "5412be29",
   "metadata": {},
   "source": [
    "*Also \n",
    "\n",
    "**Practice strong inference:**\n",
    "\n",
    "Think of your own hypothesis. *For each hypothesis, \n",
    "\n",
    "List as many predictions of that hypothesis as you can think of. Write each prediction in an If…then… format. [Algorithm could evaluate number of answers, with more answers earning higher score]*"
   ]
  }
 ],
 "metadata": {
  "kernelspec": {
   "display_name": "Python 3 (ipykernel)",
   "language": "python",
   "name": "python3"
  },
  "language_info": {
   "codemirror_mode": {
    "name": "ipython",
    "version": 3
   },
   "file_extension": ".py",
   "mimetype": "text/x-python",
   "name": "python",
   "nbconvert_exporter": "python",
   "pygments_lexer": "ipython3",
   "version": "3.11.3"
  }
 },
 "nbformat": 4,
 "nbformat_minor": 5
}

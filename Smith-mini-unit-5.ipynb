{
 "cells": [
  {
   "cell_type": "markdown",
   "id": "cdc4d637",
   "metadata": {},
   "source": [
    "## Part 5: We Make an Argument About the Results, and also Acknowledge the Limitations"
   ]
  },
  {
   "cell_type": "markdown",
   "id": "9f988002",
   "metadata": {},
   "source": [
    ">__Narrator__: When you have the data, you’re ready to think about the next step: convincing someone else that you have a possible solution to your research problem. But how do you make a persuasive argument about your data? \n",
    ">\n",
    ">Let’s look at the elements of making a good argument:\n",
    ">1. Stating your claim\n",
    ">2. Providing reasons to support your claim\n",
    "Example: ”Drug X affects neurogenesis (claim) because drug X increases number of neurons counted in the hippocampus (reason)”\n",
    ">\n",
    ">3. Providing evidence to support those reasons\n",
    ">\n",
    ">Example: Evidence = raw data, patterns illustrated in graphs, proper statistics.  Something that will make the reader believe that drug X affects neuron number, and that there are more neurons after drug x treatment than before. “Evidence is something your readers can see, touch, taste, smell or hear”\n",
    ">\n",
    ">4. Do you acknowledge limitations/complications/alternative interpretations, and how do you respond? We need to think hard about sources of bias and how to be transparent about data that don’t fit with our claims.\n",
    ">\n",
    ">__Narrator__: Making an effective argument might seem like a difficult task. However, as people, we are making arguments all the time when in conversation with others. Take the following example:\n",
    ">\n",
    ">>__Speaker A__: [poses a problem, framed as a question]\n",
    ">>\n",
    ">>__Speaker B__: [makes a claim that answers the question]\n",
    ">>\n",
    ">>__A__: Why is that? [asks for a reason to believe B’s claim]\n",
    ">>\n",
    ">>__B__: [offers a reason]\n",
    ">>\n",
    ">>__A__: [doesn’t see how B’s reason is relevant to his claim]\n",
    ">>\n",
    ">>__B__: [offers evidence to back up reason]\n",
    ">>\n",
    ">>__A__: [offers a point that contradicts B’s reason]\n",
    ">>\n",
    ">>__B__: [acknowledges A’s objection and responds to it]\n",
    ">>\n",
    ">>__A__: [asks about the limits of B’s claim]\n",
    ">>\n",
    ">>__B__: [limits the scope of his claim and adds a condition]\n",
    ">\n",
    ">__Narrator__:"
   ]
  },
  {
   "cell_type": "markdown",
   "id": "c0054c27",
   "metadata": {},
   "source": [
    "![](https://i.imgur.com/DRIBl6x.png)"
   ]
  },
  {
   "cell_type": "markdown",
   "id": "1b38131f",
   "metadata": {},
   "source": [
    "#### Visual Element\n",
    "\n",
    "> TBD"
   ]
  },
  {
   "cell_type": "markdown",
   "id": "d336136d",
   "metadata": {},
   "source": [
    "### Activity 1: Self Evaluation:\n",
    "> Do you feel confident in your skills in\n",
    ">\n",
    ">… displaying data effectively and transparently?\n",
    ">\n",
    ">… identifying experimental details that are important to report?\n",
    ">\n",
    ">… explaining the limitations of your research or divergence from plans?\n",
    ">\n",
    ">… avoiding publication bias? \n",
    ">\n",
    ">… publishing open access?"
   ]
  },
  {
   "cell_type": "markdown",
   "id": "d6f2a2df",
   "metadata": {},
   "source": [
    "### Activity 2\n",
    "> Revisit your individual question from mini-unit 1.2 and evaluate if it has specified the “why” clearly and completely."
   ]
  }
 ],
 "metadata": {
  "kernelspec": {
   "display_name": "Python 3 (ipykernel)",
   "language": "python",
   "name": "python3"
  },
  "language_info": {
   "codemirror_mode": {
    "name": "ipython",
    "version": 3
   },
   "file_extension": ".py",
   "mimetype": "text/x-python",
   "name": "python",
   "nbconvert_exporter": "python",
   "pygments_lexer": "ipython3",
   "version": "3.11.3"
  }
 },
 "nbformat": 4,
 "nbformat_minor": 5
}

{
 "cells": [
  {
   "cell_type": "markdown",
   "id": "cdc4d637",
   "metadata": {},
   "source": [
    "## Part 4: Specifying the “What”"
   ]
  },
  {
   "cell_type": "markdown",
   "id": "9f988002",
   "metadata": {},
   "source": [
    "In the last mini-unit we described how to specify the “who” of research questions. In this mini-unit we will describe the next overarching component across research question frameworks, the “what” of research questions. The “what” refers to the specific aspect of the “who” that is the focus of the investigation, which depending on your area of focus, could be an intervention, exposure, phenomenon, or mechanism."
   ]
  },
  {
   "attachments": {},
   "cell_type": "markdown",
   "id": "c0054c27",
   "metadata": {},
   "source": [
    "![](https://i.imgur.com/DRIBl6x.png)"
   ]
  },
  {
   "cell_type": "markdown",
   "id": "1b38131f",
   "metadata": {},
   "source": [
    "#### Visual Element\n",
    "\n",
    "> Dynamic graphic starting with an example (which is broad), which incrementally gets more specific as the learner clicks on each concept and chooses a path to go down several steps."
   ]
  },
  {
   "cell_type": "markdown",
   "id": "ca0b138d",
   "metadata": {},
   "source": [
    "Now that you have had a chance to think through the importance of the “what” in your research, let’s revisit the examples you worked on in the last mini-unit, both the ones provided and your own question you’ve begun to craft. How well has the “what” been specified?"
   ]
  },
  {
   "cell_type": "markdown",
   "id": "d336136d",
   "metadata": {},
   "source": [
    "### Activity 1\n",
    "> Review questions from mini-unit 1.2 and identify the “what.” Reflect on whether it is specified clearly and completely and if not, what additional specification would be required."
   ]
  },
  {
   "cell_type": "markdown",
   "id": "d6f2a2df",
   "metadata": {},
   "source": [
    "### Activity 2\n",
    "> Revisit your individual question from mini-unit 1.2 and evaluate if it has specified the “what” clearly and completely."
   ]
  }
 ],
 "metadata": {
  "kernelspec": {
   "display_name": "Python 3 (ipykernel)",
   "language": "python",
   "name": "python3"
  },
  "language_info": {
   "codemirror_mode": {
    "name": "ipython",
    "version": 3
   },
   "file_extension": ".py",
   "mimetype": "text/x-python",
   "name": "python",
   "nbconvert_exporter": "python",
   "pygments_lexer": "ipython3",
   "version": "3.10.10"
  }
 },
 "nbformat": 4,
 "nbformat_minor": 5
}

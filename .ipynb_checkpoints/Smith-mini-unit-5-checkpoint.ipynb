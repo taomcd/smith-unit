{
 "cells": [
  {
   "cell_type": "markdown",
   "id": "cdc4d637",
   "metadata": {},
   "source": [
    "## Part 5: Specifying the “Why”"
   ]
  },
  {
   "cell_type": "markdown",
   "id": "9f988002",
   "metadata": {},
   "source": [
    "The previous two mini-unit described considerations for specifying the “Who” and “What” of your research question, this third and final unit in this sequence will describe considerations for specifying the “Why” of your research question. Depending on your area of focus this could be an outcome such as stroke or the development of dementia, the accuracy of a diagnostic test, or the identification of a specific genetic mutation."
   ]
  },
  {
   "attachments": {},
   "cell_type": "markdown",
   "id": "c0054c27",
   "metadata": {},
   "source": [
    "![](https://i.imgur.com/DRIBl6x.png)"
   ]
  },
  {
   "cell_type": "markdown",
   "id": "1b38131f",
   "metadata": {},
   "source": [
    "#### Visual Element\n",
    "\n",
    "> Dynamic graphic starting with an example (which is broad), which incrementally gets more specific as the learner clicks on each concept and chooses a path to go down several steps."
   ]
  },
  {
   "cell_type": "markdown",
   "id": "d336136d",
   "metadata": {},
   "source": [
    "### Activity 1\n",
    "> Review questions from mini-unit 1.2 and identify the “why.” Reflect on whether it is specified clearly and completely and if not, what additional specification would be required."
   ]
  },
  {
   "cell_type": "markdown",
   "id": "d6f2a2df",
   "metadata": {},
   "source": [
    "### Activity 2\n",
    "> Revisit your individual question from mini-unit 1.2 and evaluate if it has specified the “why” clearly and completely."
   ]
  }
 ],
 "metadata": {
  "kernelspec": {
   "display_name": "Python 3 (ipykernel)",
   "language": "python",
   "name": "python3"
  },
  "language_info": {
   "codemirror_mode": {
    "name": "ipython",
    "version": 3
   },
   "file_extension": ".py",
   "mimetype": "text/x-python",
   "name": "python",
   "nbconvert_exporter": "python",
   "pygments_lexer": "ipython3",
   "version": "3.10.10"
  }
 },
 "nbformat": 4,
 "nbformat_minor": 5
}

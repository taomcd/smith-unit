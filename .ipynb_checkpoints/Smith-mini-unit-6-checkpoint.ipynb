{
 "cells": [
  {
   "cell_type": "markdown",
   "id": "cdc4d637",
   "metadata": {},
   "source": [
    "## Part 6: An Evaluation Framework"
   ]
  },
  {
   "cell_type": "markdown",
   "id": "9f988002",
   "metadata": {},
   "source": [
    "Over the last three units we described ways to clearly specify your question. To make a rigorous research question however, there are additional considerations that need to be accounted for. In addition to being clear and well specified your question should meet five criteria represented by the acronym FINER: Feasible, Interesting, Novel, Ethical, and Relevant. Use the graphic below to learn more about the FINER criteria."
   ]
  },
  {
   "cell_type": "markdown",
   "id": "1b38131f",
   "metadata": {},
   "source": [
    "#### Visual Element\n",
    "\n",
    "> Dynamic graphic showing the FINER framework where learners can click into a letter and see a short description and relevant examples. The graphic will also include the relative importance of each of the criteria, delineating which aspects most commonly impact research questions in today’s scientific environment."
   ]
  },
  {
   "cell_type": "markdown",
   "id": "48d8dac1",
   "metadata": {},
   "source": [
    "Now that you have learned about FINER criteria, lets hear how FINER can be applied when developing research questions"
   ]
  },
  {
   "cell_type": "markdown",
   "id": "4046f9ab",
   "metadata": {},
   "source": [
    "#### Interactive Element\n",
    "> Personal narratives about trainee stories showing learners how different elements of FINER can apply within research careers. A total of five cartoon ‘talking heads’ will allow learners to click on them to listen to a story related to experiences surrounding the composition of research questions and potential outcomes. The stories are composed upon the framework of FINER."
   ]
  },
  {
   "cell_type": "markdown",
   "id": "d336136d",
   "metadata": {},
   "source": [
    "### Activity 1\n",
    "> Review questions from Activity 1.1.1 and assess them using the framework."
   ]
  },
  {
   "cell_type": "markdown",
   "id": "d6f2a2df",
   "metadata": {},
   "source": [
    "### Activity 2\n",
    "> Revisit your question from Activity 1.1.2 and evaluate if it maps fully to the framework or if it has any missing components."
   ]
  }
 ],
 "metadata": {
  "kernelspec": {
   "display_name": "Python 3 (ipykernel)",
   "language": "python",
   "name": "python3"
  },
  "language_info": {
   "codemirror_mode": {
    "name": "ipython",
    "version": 3
   },
   "file_extension": ".py",
   "mimetype": "text/x-python",
   "name": "python",
   "nbconvert_exporter": "python",
   "pygments_lexer": "ipython3",
   "version": "3.10.10"
  }
 },
 "nbformat": 4,
 "nbformat_minor": 5
}

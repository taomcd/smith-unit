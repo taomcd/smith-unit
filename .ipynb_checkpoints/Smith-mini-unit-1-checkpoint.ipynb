{
 "cells": [
  {
   "cell_type": "markdown",
   "id": "f8fcc97e",
   "metadata": {},
   "source": [
    "## Part 1: Why Questions Matter"
   ]
  },
  {
   "cell_type": "markdown",
   "id": "29dd526a",
   "metadata": {},
   "source": [
    "__Narrator__: *Do any of these sound familiar to you?*\n",
    "    \n",
    ">__Speaker 1__: *I’m working on this grant proposal and I’m having a lot of trouble thinking of the right experiments to test my idea…*\n",
    "\n",
    ">__Speaker 2__: *I collected data from six different rats in two drug treatment groups and on three consecutive days. How am I supposed to analyze this data to test for an effect of my drug?*\n",
    "\n",
    ">__Speaker 3__: *What’s wrong, friend?*\n",
    "\n",
    ">__Speaker 4__: [sigh] *I just don’t know what to make of this data! I’m not sure how to interpret it. My advisor wants me to start writing the manuscript….. But maybe I need to do a follow up experiment first? Help!*\n",
    "    \n",
    "__Narrator__: *Everyone in your scientific community has gotten stuck in their research at some point. When you’re stuck, it’s best to slow down and reflect on your research process. I know that what you want is a definite answer, a ‘right way’ to do your research…. and you want those things right now! But rushing ahead without considering some of the implications of your choices could actually slow down your research progress, and might even lead to some bad outcomes with research that is irreproducible or, worse, has problems or deficiencies.*\n",
    "    \n",
    "*Here, we have provided a road map to help you reflect on your own processes and increase the rigor of your science. Wherever you are in your research right now, you can find a place to start. As you can see, rigorous science means more than care or exactness in conducting your experiment. It also includes sound statistical analysis, avoiding bias in your data interpretation and reporting, and acknowledging the limitations of your research. Knowing how to identify areas for improvement in your research process is critical for a successful career in science.*"
   ]
  },
  {
   "cell_type": "markdown",
   "id": "0dda22cc",
   "metadata": {},
   "source": [
    "#### Activity\n",
    "> A series of personal narratives about trainee stories showing learners why this topic is important and useful. These are meant to be positively framed to help learners understand why a focus on research questions can be important in the long-run. A total of four ‘talking heads’ are displayed across a longitudinal career trajectory (undergraduate student; Masters/PhD student; early career researcher; experienced researcher). The timeline will allow learners to click on them to listen to a story related to experiences surrounding the composition of research questions (including both what is exciting and what is difficult)."
   ]
  },
  {
   "cell_type": "markdown",
   "id": "07ce4db1",
   "metadata": {},
   "source": [
    "This unit on ‘Formulating a Research Question’ consists of eight mini-units, which are shown in the unit roadmap below. Each mini-unit will provide content as well as learning activities which will help to reinforce important concepts."
   ]
  },
  {
   "cell_type": "markdown",
   "id": "e85f90b8",
   "metadata": {},
   "source": [
    "#### Visual Element\n",
    "\n",
    "> Roadmap of the mini-units, with detours to other units indicated as appropriate. A progress bar in the form of a roadmap will also be incorporated, to allow learners to see what they have completed within this specific unit, as well as other METER units overall. For the roadmap for this unit specifically, the basic layout is shown below, with the intention that clicking on each unit would expand a visual element showing the mini-unit description."
   ]
  },
  {
   "cell_type": "markdown",
   "id": "b6abf7dc",
   "metadata": {},
   "source": [
    "We encourage learners to work through this unit with a research idea that is relevant to you and your current work, so that it can be incrementally developed and critically evaluated across the mini-units. A “roadmap” of the mini-units can be seen on the slide, feel free to click on the mini-units for a more in-depth description."
   ]
  },
  {
   "cell_type": "markdown",
   "id": "26b744a2",
   "metadata": {},
   "source": [
    "![](https://i.imgur.com/DRIBl6x.png)"
   ]
  },
  {
   "cell_type": "markdown",
   "id": "0e006f70",
   "metadata": {},
   "source": [
    "With the content of this mini-unit now complete, let’s finish by gathering your initial thoughts on a couple of research questions posed by others, and in drafting one of your own."
   ]
  },
  {
   "cell_type": "markdown",
   "id": "c44666b1",
   "metadata": {},
   "source": [
    "### Activity 1\n",
    "\n",
    "> Review a series of research questions/objectives and rate them based on your initial impressions in terms of composition/rigor, from 0=bad to 10=perfect. Jot down a few notes as to why you gave the rating you did.\n",
    "\n"
   ]
  },
  {
   "cell_type": "markdown",
   "id": "b849f26f",
   "metadata": {},
   "source": [
    "### Activity 2\n",
    "\n",
    "> Create a research question/objective of your own. Pick an area that you might be already working on, or simply an area that you find yourself interested in. Don’t worry about ‘getting it right’ at this stage of drafting."
   ]
  }
 ],
 "metadata": {
  "kernelspec": {
   "display_name": "Python 3 (ipykernel)",
   "language": "python",
   "name": "python3"
  },
  "language_info": {
   "codemirror_mode": {
    "name": "ipython",
    "version": 3
   },
   "file_extension": ".py",
   "mimetype": "text/x-python",
   "name": "python",
   "nbconvert_exporter": "python",
   "pygments_lexer": "ipython3",
   "version": "3.11.3"
  }
 },
 "nbformat": 4,
 "nbformat_minor": 5
}

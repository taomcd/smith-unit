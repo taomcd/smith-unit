{
 "cells": [
  {
   "cell_type": "markdown",
   "id": "cdc4d637",
   "metadata": {},
   "source": [
    "## Part 2: Frameworks for Questions"
   ]
  },
  {
   "cell_type": "markdown",
   "id": "9f988002",
   "metadata": {},
   "source": [
    "Crafting a rigorous research question can be intimidating regardless of whether you are a student or an experienced researcher. A good way to get started is to utilize an outline or framework to guide your development. There are many different frameworks available to help you identify the elements needed to craft a rigorous research question. Which framework you choose may be dependent on your field, your specific research question, or simply your personal intuitive preference. This mini-unit will provide an overview of commonly used frameworks in the biomedical sciences.\n",
    "\n",
    "To begin, the table below provides an overview of the different frameworks of focus in this mini-unit. You’ll note that among commonly used frameworks, there is a fair degree of overlap among domains. Every research project is unique and different elements may or may not be relevant to a given initiative. That being said, these frameworks serve to assist researchers by helping them think through whether a given domain is relevant to their work, and whether it needs to be clearly defined as a part of the planning process."
   ]
  },
  {
   "cell_type": "markdown",
   "id": "bbd729e4",
   "metadata": {},
   "source": [
    "| Framework | Components | Brief description | Primary usage |\n",
    "| :---: | :--- | :--- | :--- |\n",
    "| PICO/TS | Patient/population | The subjects of interest | Clinical research |\n",
    "|  | Intervention | The process being tested |  |\n",
    "|  | Comparison | What the process is being tested against (if applicable) |  |\n",
    "|  | Outcome | The result of interest |  |\n",
    "|  | Timing/type of question | The timeframe of measurement or the category of question asked |  |\n",
    "|  | Setting/study design | The environment or method used to conduct the measurement |  |\n",
    "| SPIDER | Sample | The subjects of interest | Qualitative and mixed-methods |\n",
    "|  | Phenomenon of Interest | The how and why being studied |  |\n",
    "|  | Design | How the method is created/implemented |  |\n",
    "|  | Evaluation | The measurement of the outcome |  |\n",
    "|  | Research type | The specific approach |  |\n",
    "| PEO | Population | The subjects of interest | General |\n",
    "|  | Exposure | The process being tested |  |\n",
    "|  | Outcome | The result of interest |  |"
   ]
  },
  {
   "attachments": {},
   "cell_type": "markdown",
   "id": "c0054c27",
   "metadata": {},
   "source": [
    "![](https://i.imgur.com/DRIBl6x.png)"
   ]
  },
  {
   "cell_type": "markdown",
   "id": "1b38131f",
   "metadata": {},
   "source": [
    "#### Visual Element\n",
    "\n",
    "> Dynamic graphic showing the different frameworks where learners start by clicking into a broad area of science (Level 1), followed by a scientific example (Level 2), and a framework mapping that example (Level 3)."
   ]
  },
  {
   "cell_type": "markdown",
   "id": "ca0b138d",
   "metadata": {},
   "source": [
    "Now that you have had a chance to review various frameworks, let’s revisit the examples you worked on in the last mini-unit, both the ones provided and your own question you’ve begun to craft. Can you map them to a framework?"
   ]
  },
  {
   "cell_type": "markdown",
   "id": "d336136d",
   "metadata": {},
   "source": [
    "### Activity 1\n",
    "> Review questions from mini-unit 1.1 and map them to a framework."
   ]
  },
  {
   "cell_type": "markdown",
   "id": "d6f2a2df",
   "metadata": {},
   "source": [
    "### Activity 2\n",
    "> Revisit your individual question from mini-unit 1.1 and evaluate if it maps fully to a framework or if it has any missing components."
   ]
  }
 ],
 "metadata": {
  "kernelspec": {
   "display_name": "Python 3 (ipykernel)",
   "language": "python",
   "name": "python3"
  },
  "language_info": {
   "codemirror_mode": {
    "name": "ipython",
    "version": 3
   },
   "file_extension": ".py",
   "mimetype": "text/x-python",
   "name": "python",
   "nbconvert_exporter": "python",
   "pygments_lexer": "ipython3",
   "version": "3.10.10"
  }
 },
 "nbformat": 4,
 "nbformat_minor": 5
}

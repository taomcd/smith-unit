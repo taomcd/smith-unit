{
 "cells": [
  {
   "cell_type": "markdown",
   "id": "cdc4d637",
   "metadata": {},
   "source": [
    "## Part 3: Specifying the “Who”"
   ]
  },
  {
   "cell_type": "markdown",
   "id": "9f988002",
   "metadata": {},
   "source": [
    "In the last mini-unit, we identified various frameworks that can be used to help map and specify a research question. Although those frameworks each include different domains, an aspect common to them all is the importance of specifying the object of study, or the “who.” Depending on your area of study, this could represent a population of patients, animals, or cells, a set of compounds, or a dataset or algorithm."
   ]
  },
  {
   "attachments": {},
   "cell_type": "markdown",
   "id": "c0054c27",
   "metadata": {},
   "source": [
    "![](https://i.imgur.com/DRIBl6x.png)"
   ]
  },
  {
   "cell_type": "markdown",
   "id": "1b38131f",
   "metadata": {},
   "source": [
    "#### Visual Element\n",
    "\n",
    "> Dynamic graphic starting with a “who” example (which is broad), which incrementally gets more specific as the learner clicks down three levels."
   ]
  },
  {
   "cell_type": "markdown",
   "id": "ca0b138d",
   "metadata": {},
   "source": [
    "Now that you have had a chance to think through the importance of the “who” in your research, let’s revisit the examples you worked on in the last mini-unit, both the ones provided and your own question you’ve begun to craft. How well has the “who” been specified?"
   ]
  },
  {
   "cell_type": "markdown",
   "id": "d336136d",
   "metadata": {},
   "source": [
    "### Activity 1\n",
    "> Review questions from mini-unit 1.2 and identify the “who.” Reflect on whether it is specified clearly and completely and if not, what additional specification would be required."
   ]
  },
  {
   "cell_type": "markdown",
   "id": "d6f2a2df",
   "metadata": {},
   "source": [
    "### Activity 2\n",
    "> Revisit your individual question from mini-unit 1.2 and evaluate if it has specified the “who” clearly and completely."
   ]
  }
 ],
 "metadata": {
  "kernelspec": {
   "display_name": "Python 3 (ipykernel)",
   "language": "python",
   "name": "python3"
  },
  "language_info": {
   "codemirror_mode": {
    "name": "ipython",
    "version": 3
   },
   "file_extension": ".py",
   "mimetype": "text/x-python",
   "name": "python",
   "nbconvert_exporter": "python",
   "pygments_lexer": "ipython3",
   "version": "3.10.10"
  }
 },
 "nbformat": 4,
 "nbformat_minor": 5
}
